{
 "cells": [
  {
   "cell_type": "markdown",
   "metadata": {},
   "source": [
    "# Projet informatique - Mazars\n",
    "## BELAMRI Pierre\n",
    "## PLANCHE Louis\n",
    "## DEJOIE Antoine"
   ]
  },
  {
   "cell_type": "markdown",
   "metadata": {},
   "source": [
    "1) Récupération et parsing des quotations d’options\n",
    "Un jeu de données au format .csv sera fourni aux étudiants. Il contiendra des données de marché tel qu’observable sur le site https://www.barchart.com/options . Les étudiants développeront un parser, qui filtrera le fichier d’input pour en conserver seulement les données utiles. \n"
   ]
  },
  {
   "cell_type": "markdown",
   "metadata": {},
   "source": [
    "Le parser se trouve dans le fichier $ parser.py  $ et s'utilise par le terminal de la façon suivante :"
   ]
  },
  {
   "cell_type": "markdown",
   "metadata": {},
   "source": [
    "- Ouvrir le terminal\n",
    "- Se placer dans le répertoire contenant parser.py ainsi que le csv à trier.\n",
    "\n",
    "*cd ~path/projet_mazars/*\n",
    "\n",
    "- Appeler le programme en mettant en argument le nom du csv à trier, le symbole sur lequel on travaille, l'option (Call, Put ou Both par défaut pour les deux)\n",
    "\n",
    "*python parser.py stocks-options.csv AAPL Call*\n",
    "\n",
    "- Vous serez ensuite invité à saisir une valeur pour le DTE\n",
    "\n",
    "*11*\n",
    "\n",
    "- Pour cet exemple, le programme créer dans le même répertoire un fichier \"stocks-options_extracterd_AAPL.csv\" contenant seulement les lignes concernant Apple pour des options d'achats qui expirent dans 11 jours."
   ]
  },
  {
   "cell_type": "markdown",
   "metadata": {},
   "source": [
    "Le programme fonctionne de la façon suivante: Les lignes du csv vont être lues une par une (*for row in spamreader*) jusqu'a ce que le symbol, le DTE et le choix de l'option correspondent avec notre choix (*if*) dans ce cas on balaie toute la ligne avec une boucle *for* et on créé un dictionnaire contenant toute cette ligne, on écrit ensuite ce dictionnaire dans un nouveau csv ( *writer.writerow(d)*)"
   ]
  },
  {
   "cell_type": "code",
   "execution_count": null,
   "metadata": {},
   "outputs": [],
   "source": [
    "spamreader = csv.reader(csvfile, delimiter=',', quotechar='|')\n",
    "\n",
    "for row in spamreader:\n",
    "    A = list((\",\".join(row)).split(\",\"))\n",
    "    if A[0] == symbol  and A[5] == str(DTE) and (A[2] == choix) :\n",
    "        d=dict()\n",
    "        for j in range (len(A)):\n",
    "            d[B[j]] = A[j] \n",
    "        writer.writerow(d)"
   ]
  },
  {
   "cell_type": "markdown",
   "metadata": {},
   "source": [
    "## BELAMRI Pierre\n",
    "## PLANCHE Louis\n",
    "## DEJOIE Antoine"
   ]
  },
  {
   "cell_type": "code",
   "execution_count": null,
   "metadata": {},
   "outputs": [],
   "source": [
    "# test\n",
    "## test"
   ]
  }
 ],
 "metadata": {
  "language_info": {
   "codemirror_mode": {
    "name": "ipython",
    "version": 3
   },
   "file_extension": ".py",
   "mimetype": "text/x-python",
   "name": "python",
   "nbconvert_exporter": "python",
   "pygments_lexer": "ipython3",
   "version": "3.7.4-final"
  },
  "orig_nbformat": 2,
  "kernelspec": {
   "name": "python3",
   "display_name": "Python 3"
  }
 },
 "nbformat": 4,
 "nbformat_minor": 2
}