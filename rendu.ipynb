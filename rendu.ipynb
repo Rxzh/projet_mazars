{
 "cells": [
  {
   "cell_type": "markdown",
   "metadata": {},
   "source": [
    "# Projet informatique - Mazars\n",
    "## BELAMRI Pierre\n",
    "## PLANCHE Louis\n",
    "## DEJOIE Antoine"
   ]
  },
  {
   "cell_type": "markdown",
   "metadata": {},
   "source": [
    "Imports utiles "
   ]
  },
  {
   "cell_type": "code",
   "execution_count": 1,
   "metadata": {},
   "outputs": [],
   "source": [
    "import numpy as np \n",
    "import matplotlib.pyplot as plt\n",
    "from scipy.integrate import quad\n",
    "from math import sqrt,log,exp,pi"
   ]
  },
  {
   "cell_type": "markdown",
   "metadata": {},
   "source": [
    "1) Récupération et parsing des quotations d’options\n",
    "Un jeu de données au format .csv sera fourni aux étudiants. Il contiendra des données de marché tel qu’observable sur le site https://www.barchart.com/options . Les étudiants développeront un parser, qui filtrera le fichier d’input pour en conserver seulement les données utiles. \n"
   ]
  },
  {
   "cell_type": "markdown",
   "metadata": {},
   "source": [
    "Le parser se trouve dans le fichier $ parser.py  $ et s'utilise par le terminal de la façon suivante :"
   ]
  },
  {
   "cell_type": "markdown",
   "metadata": {},
   "source": [
    "- Ouvrir le terminal\n",
    "- Se placer dans le répertoire contenant parser.py ainsi que le csv à trier.\n",
    "\n",
    "*cd ~path/projet_mazars/*\n",
    "\n",
    "- Appeler le programme en mettant en argument le nom du csv à trier, le symbole sur lequel on travaille, l'option (Call, Put ou Both par défaut pour les deux)\n",
    "\n",
    "*python parser.py stocks-options.csv AAPL Call*\n",
    "\n",
    "- Vous serez ensuite invité à saisir une valeur pour le DTE\n",
    "\n",
    "*11*\n",
    "\n",
    "- Pour cet exemple, le programme créer dans le même répertoire un fichier \"stocks-options_extracterd_AAPL.csv\" contenant seulement les lignes concernant Apple pour des options d'achats qui expirent dans 11 jours."
   ]
  },
  {
   "cell_type": "code",
   "execution_count": 2,
   "metadata": {},
   "outputs": [
    {
     "name": "stdout",
     "output_type": "stream",
     "text": [
      "E:\\GitHub\\projet_mazars\\code\n"
     ]
    }
   ],
   "source": [
    "cd code"
   ]
  },
  {
   "cell_type": "markdown",
   "metadata": {},
   "source": [
    "Le programme fonctionne de la façon suivante: Les lignes du csv vont être lues une par une (*for row in spamreader*) jusqu'a ce que le symbol, le DTE et le choix de l'option correspondent avec notre choix (*if*) dans ce cas on balaie toute la ligne avec une boucle *for* et on créé un dictionnaire contenant toute cette ligne, on écrit ensuite ce dictionnaire dans un nouveau csv ( *writer.writerow(d)*)"
   ]
  },
  {
   "cell_type": "code",
   "execution_count": 3,
   "metadata": {},
   "outputs": [
    {
     "ename": "NameError",
     "evalue": "name 'csv' is not defined",
     "output_type": "error",
     "traceback": [
      "\u001b[1;31m---------------------------------------------------------------------------\u001b[0m",
      "\u001b[1;31mNameError\u001b[0m                                 Traceback (most recent call last)",
      "\u001b[1;32m<ipython-input-3-b88658e3ebd2>\u001b[0m in \u001b[0;36m<module>\u001b[1;34m\u001b[0m\n\u001b[1;32m----> 1\u001b[1;33m \u001b[0mspamreader\u001b[0m \u001b[1;33m=\u001b[0m \u001b[0mcsv\u001b[0m\u001b[1;33m.\u001b[0m\u001b[0mreader\u001b[0m\u001b[1;33m(\u001b[0m\u001b[0mcsvfile\u001b[0m\u001b[1;33m,\u001b[0m \u001b[0mdelimiter\u001b[0m\u001b[1;33m=\u001b[0m\u001b[1;34m','\u001b[0m\u001b[1;33m,\u001b[0m \u001b[0mquotechar\u001b[0m\u001b[1;33m=\u001b[0m\u001b[1;34m'|'\u001b[0m\u001b[1;33m)\u001b[0m\u001b[1;33m\u001b[0m\u001b[1;33m\u001b[0m\u001b[0m\n\u001b[0m\u001b[0;32m      2\u001b[0m \u001b[1;33m\u001b[0m\u001b[0m\n\u001b[0;32m      3\u001b[0m \u001b[1;32mfor\u001b[0m \u001b[0mrow\u001b[0m \u001b[1;32min\u001b[0m \u001b[0mspamreader\u001b[0m\u001b[1;33m:\u001b[0m\u001b[1;33m\u001b[0m\u001b[1;33m\u001b[0m\u001b[0m\n\u001b[0;32m      4\u001b[0m     \u001b[0mA\u001b[0m \u001b[1;33m=\u001b[0m \u001b[0mlist\u001b[0m\u001b[1;33m(\u001b[0m\u001b[1;33m(\u001b[0m\u001b[1;34m\",\"\u001b[0m\u001b[1;33m.\u001b[0m\u001b[0mjoin\u001b[0m\u001b[1;33m(\u001b[0m\u001b[0mrow\u001b[0m\u001b[1;33m)\u001b[0m\u001b[1;33m)\u001b[0m\u001b[1;33m.\u001b[0m\u001b[0msplit\u001b[0m\u001b[1;33m(\u001b[0m\u001b[1;34m\",\"\u001b[0m\u001b[1;33m)\u001b[0m\u001b[1;33m)\u001b[0m\u001b[1;33m\u001b[0m\u001b[1;33m\u001b[0m\u001b[0m\n\u001b[0;32m      5\u001b[0m     \u001b[1;32mif\u001b[0m \u001b[0mA\u001b[0m\u001b[1;33m[\u001b[0m\u001b[1;36m0\u001b[0m\u001b[1;33m]\u001b[0m \u001b[1;33m==\u001b[0m \u001b[0msymbol\u001b[0m  \u001b[1;32mand\u001b[0m \u001b[0mA\u001b[0m\u001b[1;33m[\u001b[0m\u001b[1;36m5\u001b[0m\u001b[1;33m]\u001b[0m \u001b[1;33m==\u001b[0m \u001b[0mstr\u001b[0m\u001b[1;33m(\u001b[0m\u001b[0mDTE\u001b[0m\u001b[1;33m)\u001b[0m \u001b[1;32mand\u001b[0m \u001b[1;33m(\u001b[0m\u001b[0mA\u001b[0m\u001b[1;33m[\u001b[0m\u001b[1;36m2\u001b[0m\u001b[1;33m]\u001b[0m \u001b[1;33m==\u001b[0m \u001b[0mchoix\u001b[0m\u001b[1;33m)\u001b[0m \u001b[1;33m:\u001b[0m\u001b[1;33m\u001b[0m\u001b[1;33m\u001b[0m\u001b[0m\n",
      "\u001b[1;31mNameError\u001b[0m: name 'csv' is not defined"
     ]
    }
   ],
   "source": [
    "spamreader = csv.reader(csvfile, delimiter=',', quotechar='|')\n",
    "\n",
    "for row in spamreader:\n",
    "    A = list((\",\".join(row)).split(\",\"))\n",
    "    if A[0] == symbol  and A[5] == str(DTE) and (A[2] == choix) :\n",
    "        d=dict()\n",
    "        for j in range (len(A)):\n",
    "            d[B[j]] = A[j] \n",
    "        writer.writerow(d)"
   ]
  },
  {
   "cell_type": "markdown",
   "metadata": {},
   "source": [
    "2) Développer un programme d’interpolation spline cubique\n"
   ]
  },
  {
   "cell_type": "markdown",
   "metadata": {},
   "source": [
    "Pour cette partie nous avons développé une fonction capable de réaliser une interpolation spline cubique pour nimporte quel jeu de donnée, puis l'appliquer ensuite sur les volatilités implicites\n",
    "\n",
    "Le code complet se trouve dans *interpolation_spline3.py*\n",
    "\n",
    "Pour cela nous commençons par créer une fonction qui va intitialiser l'interpolation sur le jeu de donnée, via l'algorithme disponible sur https://fr.wikipedia.org/wiki/Spline#Spline_d%27interpolation"
   ]
  },
  {
   "cell_type": "code",
   "execution_count": null,
   "metadata": {},
   "outputs": [],
   "source": []
  },
  {
   "cell_type": "code",
   "execution_count": 4,
   "metadata": {},
   "outputs": [],
   "source": [
    "def init_spline(X,Y, F1=0 , Fn=0):\n",
    "    n = len(X)\n",
    "    h=[]\n",
    "    F=[]\n",
    "    h.append(X[1]-X[0])\n",
    "    for i in range (1,len(X)-1):\n",
    "        h.append(X[i+1]-X[i])\n",
    "        F.append( (Y[i+1]-Y[i])/h[i] - ((Y[i]-Y[i-1])/h[i-1]) )\n",
    "    F = [F1] + F +[Fn]\n",
    "\n",
    "    X = np.array(X)\n",
    "    Y = np.array(Y)\n",
    "    h = np.array(h)\n",
    "    F = np.array(F)\n",
    "    R = np.zeros((n,n))\n",
    "    \n",
    "    R[0,0],R[n-1,n-1] = 1,1\n",
    "\n",
    "    for i in range (1,n-1):\n",
    "        R[i,i] = (h[i-1]+h[i])/3 #diagonale\n",
    "        R[i,i+1] = h[i]/6 #diagonale superieure\n",
    "        R[i,i-1] = h[i-1]/6 #diagonale inferieure\n",
    "    \n",
    "    invR = np.linalg.inv(R)\n",
    "    M = np.dot(invR , F)\n",
    "    C,Cprime = np.zeros(n-1),np.zeros(n-1)\n",
    "    for i in range(n-1):\n",
    "        C[i] = (Y[i+1]-Y[i])/h[i] - h[i]/6 * (M[i+1]-M[i])\n",
    "        Cprime[i] = Y[i] - M[i]*(h[i]**2)/6\n",
    "    \n",
    "    #print(C)\n",
    "    return M,h,C,Cprime\n"
   ]
  },
  {
   "cell_type": "markdown",
   "metadata": {},
   "source": [
    "Ensuite, l'interpolation se réalise systématiquement à l'aide d'une classe, qui va prendre en argument le jeu de données et qui va retourner une selon l'option interpolated(x) une fonction de x points qui sera la fonction du jeu de donnée Y d'entrée mais interpolée ( continue donc )"
   ]
  },
  {
   "cell_type": "code",
   "execution_count": 5,
   "metadata": {},
   "outputs": [
    {
     "ename": "NameError",
     "evalue": "name 'self' is not defined",
     "output_type": "error",
     "traceback": [
      "\u001b[1;31m---------------------------------------------------------------------------\u001b[0m",
      "\u001b[1;31mNameError\u001b[0m                                 Traceback (most recent call last)",
      "\u001b[1;32m<ipython-input-5-35fdcecd662c>\u001b[0m in \u001b[0;36m<module>\u001b[1;34m\u001b[0m\n\u001b[0;32m     15\u001b[0m         \u001b[1;32mreturn\u001b[0m \u001b[1;33m(\u001b[0m\u001b[0my\u001b[0m\u001b[1;33m)\u001b[0m\u001b[1;33m\u001b[0m\u001b[1;33m\u001b[0m\u001b[0m\n\u001b[0;32m     16\u001b[0m \u001b[1;33m\u001b[0m\u001b[0m\n\u001b[1;32m---> 17\u001b[1;33m \u001b[0mself\u001b[0m\u001b[1;33m.\u001b[0m\u001b[0minterpolated\u001b[0m\u001b[1;33m(\u001b[0m\u001b[0mK\u001b[0m\u001b[1;33m)\u001b[0m\u001b[1;33m\u001b[0m\u001b[1;33m\u001b[0m\u001b[0m\n\u001b[0m",
      "\u001b[1;31mNameError\u001b[0m: name 'self' is not defined"
     ]
    }
   ],
   "source": [
    "class Spline:\n",
    "    def __init__(self,X,Y):\n",
    "        self.X = X\n",
    "        self.Y = Y\n",
    "        self.M , self.h , self.C , self.Cprime = init_spline(self.X,self.Y)\n",
    "    def interpolated(self,x):\n",
    "        k = 0\n",
    "        while not(self.X[k] <= x <= self.X[k+1]) :\n",
    "            k += 1\n",
    "        y = self.M[k] * (self.X[k+1]-x)**3 / (6*self.h[k]) \n",
    "        y += self.M[k+1] * (x-self.X[k])**3 / (6*self.h[k])\n",
    "        y += self.C[k] * (x - self.X[k])\n",
    "        y += self.Cprime[k]\n",
    "\n",
    "        return (y)\n",
    "    \n",
    "self.interpolated(K)"
   ]
  },
  {
   "cell_type": "markdown",
   "metadata": {},
   "source": [
    "On a pu tester l'interpolation sur la fonction sinus ici :"
   ]
  },
  {
   "cell_type": "code",
   "execution_count": 6,
   "metadata": {},
   "outputs": [
    {
     "data": {
      "image/png": "[encoded data removed]",
      "text/plain": [
       "<Figure size 432x288 with 1 Axes>"
      ]
     },
     "metadata": {
      "needs_background": "light"
     },
     "output_type": "display_data"
    }
   ],
   "source": [
    "X = [0,0.5,1,1.5,2]\n",
    "Y = [0,0.4794,0.8415,0.9975,0.9093]\n",
    "Ybis =  [i for i in Y]\n",
    "splinned = Spline(X,Y)\n",
    "\n",
    "\n",
    "Xtest = list(np.arange(0,2,0.01))\n",
    "Ytest = []\n",
    "Y2 =[]\n",
    "for x in Xtest:\n",
    "    if x in X:\n",
    "        y = Y.pop(0)\n",
    "        Ytest.append(y)\n",
    "        Y2.append(y)\n",
    "    else :\n",
    "        Ytest.append(splinned.interpolated(x))\n",
    "\n",
    "  \n",
    "\n",
    "\n",
    "plt.scatter(X,Ybis)\n",
    "plt.plot(X,Ybis,'b')\n",
    "plt.plot(Xtest,Ytest,'r')\n",
    "plt.show()"
   ]
  },
  {
   "cell_type": "markdown",
   "metadata": {},
   "source": [
    "En bleu il s'agit de quelques points de la fonction sinus (discrets donc) et en rouge le traçé de l'interpolation de ces points (fonction continue)."
   ]
  },
  {
   "cell_type": "markdown",
   "metadata": {},
   "source": [
    "3) Implémenter la formule de Black-Scholes"
   ]
  },
  {
   "cell_type": "markdown",
   "metadata": {},
   "source": [
    "Le code total pour implémenter la formule de Black-Scholes se trouve dans *BS.py*"
   ]
  },
  {
   "cell_type": "markdown",
   "metadata": {},
   "source": [
    "Le prix théorique d'une option de vente est donné par :\n",
    "\n",
    "$ P(S_{0} , K,r,T,\\sigma) = - S_{0}. \\mathcal{N} (-d_{1}) + K e^{-rT} \\mathcal{N} (-d_{2}) $\n",
    "\n",
    "où $ \\mathcal{N} $ est la fonction de répartition de la loi normale centrée réduite\n",
    "\n",
    "et ou \n",
    "\n",
    "$ d_1 = \\frac{1}{\\sigma \\sqrt(T)} [ ln(\\frac{S_{0}}{K})+(r   + \\frac{1}{2} \\sigma ^{2})T] $\n",
    "\n",
    "et \n",
    "\n",
    "$ d_{2} = d_{1} - \\sigma \\sqrt{T} $\n",
    "\n",
    "Les fonctions correspondantes en python sont les suivantes :"
   ]
  },
  {
   "cell_type": "code",
   "execution_count": 7,
   "metadata": {},
   "outputs": [],
   "source": [
    "def Normale(x):\n",
    "    return 1/sqrt(2*pi) * exp(-x**2/2)\n",
    "\n",
    "def N(x):\n",
    "    res = quad(Normale, -50,x)[0]    \n",
    "    return res\n",
    "\n",
    "\n",
    "def d1(S0,T,K,r,sigma):\n",
    "    return 1/(sigma*sqrt(T)) *(log(S0/K)+T*(r+sigma**2/2))\n",
    "\n",
    "\n",
    "def d2(S0,T,K,r,sigma):\n",
    "    return d1(S0,T,K,r,sigma) - sigma * sqrt(T)\n",
    "\n",
    "\n",
    "def Call(S0,T,K,r,sigma):\n",
    "    C = S0 * N(d1(S0,T,K,r,sigma)) - K*exp(-r*T) * N(d2(S0,T,K,r,sigma))\n",
    "    return C "
   ]
  },
  {
   "cell_type": "markdown",
   "metadata": {},
   "source": [
    "4) Impliciter la fonction de répartition\n",
    "\n",
    "Pour cette partie nous avons du interpoler la fonction des"
   ]
  },
  {
   "cell_type": "code",
   "execution_count": null,
   "metadata": {},
   "outputs": [],
   "source": [
    "class SYMBOL:\n",
    "    def __init__(self,symbol,version=v1,csvname=None,dte=None,S0=None, r=0.0006):\n",
    "        self.symbol = symbol\n",
    "        if version == 'v1':\n",
    "            self.S0 , self.T , self.K , self.IV , self.Volumes = recup(self.symbol)\n",
    "        else:\n",
    "            self.S0 , self.T , self.K , self.IV , self.Volumes = recup2(csvname,dte,S0)\n",
    "        self.r = r  #OIS/USD\n",
    "        \n",
    "        self.K_,self.IV_ = TRI3(self.K,self.IV)\n",
    "        i = 0\n",
    "        while i <= len(self.K_)-2:\n",
    "            while self.K_[i] == self.K_[i+1]:\n",
    "                self.K_.pop(i)\n",
    "                self.IV.pop(i)\n",
    "            i += 1\n",
    "        t = 0.2\n",
    "        \n",
    "        ####### Traitement sur la liquidité\n",
    "        indexes = delete_indexes(self.Volumes,t,False)\n",
    "        print(f\"points supprimés car trop peu liquides pour {self.symbol} : \",len(indexes))\n",
    "        self.K_ = TRI2(self.K_,indexes)\n",
    "        self.IV_ = TRI2(self.IV_,indexes)\n",
    "        self.Volumes_ = TRI2(self.Volumes,indexes)\n",
    "        self.T_ = TRI2(self.T,indexes)\n",
    "        self.S0_ = TRI2(self.S0,indexes)\n",
    "        self.sigma = interpolation_spline3.Spline(self.K_,self.IV_) #Sigma est une fonction qui s'appelle par sigma.interpolated(k)\n",
    "        ####### Fin traitement\n",
    "        #recherche atm:\n",
    "        self.atm_index = 0\n",
    "        dist = abs(self.K_[self.atm_index] - self.S0_[self.atm_index])\n",
    "        for j in range(len(self.K_)):\n",
    "            if abs(self.K_[j] - self.S0_[j]) < dist:\n",
    "                dist = abs(self.K_[self.atm_index] - self.S0_[self.atm_index])\n",
    "                self.atm_index = j\n",
    "        #fin recherche\n",
    "        \n",
    "        \n",
    "    def F(self,i,s=None,k=None,t=None,iv=None ,epsilon = 10**-11): #fonction de répartition du sous jacent\n",
    "        if s == None:\n",
    "            s = self.S0_[i]\n",
    "        if t == None:\n",
    "            t = self.T_[i]\n",
    "        if k == None:\n",
    "            k = self.K_[i]\n",
    "        if iv == None:\n",
    "            iv1 = self.sigma.interpolated(k-epsilon/2)\n",
    "            iv2 = self.sigma.interpolated(k+epsilon/2)\n",
    "        else:\n",
    "            iv1,iv2 = iv,iv\n",
    "        yk1 = BS.Call(s,t,k-epsilon/2,self.r,iv1)\n",
    "        yk2 = BS.Call(s,t,k+epsilon/2,self.r,iv2)\n",
    "        \n",
    "        D = -   (yk2 - yk1)/epsilon\n",
    "\n",
    "        return D\n",
    "\n"
   ]
  },
  {
   "cell_type": "code",
   "execution_count": null,
   "metadata": {},
   "outputs": [],
   "source": [
    "AAPL = SYMBOL(\"AAPL\",'v2',\"aapl-options-4.csv\",4,358.87)\n",
    "MSFT = SYMBOL(\"MSFT\",'v2',\"msft-options-3.csv\",3,202.98)"
   ]
  },
  {
   "cell_type": "code",
   "execution_count": null,
   "metadata": {},
   "outputs": [],
   "source": [
    "import sys\n",
    "from main import SYMBOL\n",
    "\n",
    "\n",
    "\n",
    "\n",
    "try:\n",
    "    sys.argv.pop(0)\n",
    "    symbol = sys.argv.pop(0)\n",
    "    nom_fichier = sys.argv.pop(0)\n",
    "    DTE = int(input('choisir la valeur du DTE (en jour): '))\n",
    "    S0 = float(input('choisir la valeur actuelle du sous-jacent: '))\n",
    "    #IV = float(input('choisir la valeur de la volatilité implicite: '))\n",
    "    K = float(input('choisir la valeur du strike: '))\n",
    "\n",
    "\n",
    "    Pricer = SYMBOL(symbol,'v2',nom_fichier,DTE,S0)\n",
    "    proba=round(Pricer.F(s=S0,k=K,t=DTE/365),4)\n",
    "\n",
    "    print(f'La probabilité de finir dans la monnaie à maturité est : {proba}')\n",
    "\n",
    "except:\n",
    "    print(\"Entrez les paramètres suivants: 'SYMBOL' 'fichier.csv' \")\n",
    "\n",
    "\n"
   ]
  },
  {
   "cell_type": "code",
   "execution_count": null,
   "metadata": {},
   "outputs": [],
   "source": []
  },
  {
   "cell_type": "code",
   "execution_count": null,
   "metadata": {},
   "outputs": [],
   "source": []
  },
  {
   "cell_type": "code",
   "execution_count": null,
   "metadata": {},
   "outputs": [],
   "source": []
  },
  {
   "cell_type": "code",
   "execution_count": null,
   "metadata": {},
   "outputs": [],
   "source": []
  },
  {
   "cell_type": "code",
   "execution_count": null,
   "metadata": {},
   "outputs": [],
   "source": []
  }
 ],
 "metadata": {
  "kernelspec": {
   "display_name": "Python 3",
   "language": "python",
   "name": "python3"
  },
  "language_info": {
   "codemirror_mode": {
    "name": "ipython",
    "version": 3
   },
   "file_extension": ".py",
   "mimetype": "text/x-python",
   "name": "python",
   "nbconvert_exporter": "python",
   "pygments_lexer": "ipython3",
   "version": "3.7.6"
  }
 },
 "nbformat": 4,
 "nbformat_minor": 2
}
